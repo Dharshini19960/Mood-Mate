{
  "nbformat": 4,
  "nbformat_minor": 0,
  "metadata": {
    "colab": {
      "provenance": [],
      "gpuType": "T4"
    },
    "kernelspec": {
      "name": "python3",
      "display_name": "Python 3"
    },
    "language_info": {
      "name": "python"
    },
    "accelerator": "GPU"
  },
  "cells": [
    {
      "cell_type": "markdown",
      "source": [
        "🧱 Our Build Plan (Step-by-Step):\n",
        "\n",
        "Create a notebook in Colab 🧑‍💻\n",
        "\n",
        "Preprocessing + Mood detection 💬\n",
        "\n",
        "Response generation (basic empathy engine) 🧠\n",
        "\n",
        "Make it interactive with a chat loop 🔄\n",
        "\n",
        "Polish & Upload to GitHub 🌐\n",
        "\n",
        "Wrap it in a UI using Gradio (Optional later)"
      ],
      "metadata": {
        "id": "BJEZ_bDsRe4J"
      }
    },
    {
      "cell_type": "code",
      "source": [
        "!pip install gradio"
      ],
      "metadata": {
        "colab": {
          "base_uri": "https://localhost:8080/",
          "height": 0
        },
        "id": "vcZTNyDyYFET",
        "outputId": "04f92258-9c41-4b09-9523-38567f5becf1"
      },
      "execution_count": 1,
      "outputs": [
        {
          "output_type": "stream",
          "name": "stdout",
          "text": [
            "Requirement already satisfied: gradio in /usr/local/lib/python3.11/dist-packages (5.31.0)\n",
            "Requirement already satisfied: aiofiles<25.0,>=22.0 in /usr/local/lib/python3.11/dist-packages (from gradio) (24.1.0)\n",
            "Requirement already satisfied: anyio<5.0,>=3.0 in /usr/local/lib/python3.11/dist-packages (from gradio) (4.9.0)\n",
            "Requirement already satisfied: fastapi<1.0,>=0.115.2 in /usr/local/lib/python3.11/dist-packages (from gradio) (0.115.12)\n",
            "Requirement already satisfied: ffmpy in /usr/local/lib/python3.11/dist-packages (from gradio) (0.5.0)\n",
            "Requirement already satisfied: gradio-client==1.10.1 in /usr/local/lib/python3.11/dist-packages (from gradio) (1.10.1)\n",
            "Requirement already satisfied: groovy~=0.1 in /usr/local/lib/python3.11/dist-packages (from gradio) (0.1.2)\n",
            "Requirement already satisfied: httpx>=0.24.1 in /usr/local/lib/python3.11/dist-packages (from gradio) (0.28.1)\n",
            "Requirement already satisfied: huggingface-hub>=0.28.1 in /usr/local/lib/python3.11/dist-packages (from gradio) (0.32.2)\n",
            "Requirement already satisfied: jinja2<4.0 in /usr/local/lib/python3.11/dist-packages (from gradio) (3.1.6)\n",
            "Requirement already satisfied: markupsafe<4.0,>=2.0 in /usr/local/lib/python3.11/dist-packages (from gradio) (3.0.2)\n",
            "Requirement already satisfied: numpy<3.0,>=1.0 in /usr/local/lib/python3.11/dist-packages (from gradio) (2.0.2)\n",
            "Requirement already satisfied: orjson~=3.0 in /usr/local/lib/python3.11/dist-packages (from gradio) (3.10.18)\n",
            "Requirement already satisfied: packaging in /usr/local/lib/python3.11/dist-packages (from gradio) (24.2)\n",
            "Requirement already satisfied: pandas<3.0,>=1.0 in /usr/local/lib/python3.11/dist-packages (from gradio) (2.2.2)\n",
            "Requirement already satisfied: pillow<12.0,>=8.0 in /usr/local/lib/python3.11/dist-packages (from gradio) (11.2.1)\n",
            "Requirement already satisfied: pydantic<2.12,>=2.0 in /usr/local/lib/python3.11/dist-packages (from gradio) (2.11.5)\n",
            "Requirement already satisfied: pydub in /usr/local/lib/python3.11/dist-packages (from gradio) (0.25.1)\n",
            "Requirement already satisfied: python-multipart>=0.0.18 in /usr/local/lib/python3.11/dist-packages (from gradio) (0.0.20)\n",
            "Requirement already satisfied: pyyaml<7.0,>=5.0 in /usr/local/lib/python3.11/dist-packages (from gradio) (6.0.2)\n",
            "Requirement already satisfied: ruff>=0.9.3 in /usr/local/lib/python3.11/dist-packages (from gradio) (0.11.12)\n",
            "Requirement already satisfied: safehttpx<0.2.0,>=0.1.6 in /usr/local/lib/python3.11/dist-packages (from gradio) (0.1.6)\n",
            "Requirement already satisfied: semantic-version~=2.0 in /usr/local/lib/python3.11/dist-packages (from gradio) (2.10.0)\n",
            "Requirement already satisfied: starlette<1.0,>=0.40.0 in /usr/local/lib/python3.11/dist-packages (from gradio) (0.46.2)\n",
            "Requirement already satisfied: tomlkit<0.14.0,>=0.12.0 in /usr/local/lib/python3.11/dist-packages (from gradio) (0.13.2)\n",
            "Requirement already satisfied: typer<1.0,>=0.12 in /usr/local/lib/python3.11/dist-packages (from gradio) (0.16.0)\n",
            "Requirement already satisfied: typing-extensions~=4.0 in /usr/local/lib/python3.11/dist-packages (from gradio) (4.13.2)\n",
            "Requirement already satisfied: uvicorn>=0.14.0 in /usr/local/lib/python3.11/dist-packages (from gradio) (0.34.2)\n",
            "Requirement already satisfied: fsspec in /usr/local/lib/python3.11/dist-packages (from gradio-client==1.10.1->gradio) (2025.3.2)\n",
            "Requirement already satisfied: websockets<16.0,>=10.0 in /usr/local/lib/python3.11/dist-packages (from gradio-client==1.10.1->gradio) (15.0.1)\n",
            "Requirement already satisfied: idna>=2.8 in /usr/local/lib/python3.11/dist-packages (from anyio<5.0,>=3.0->gradio) (3.10)\n",
            "Requirement already satisfied: sniffio>=1.1 in /usr/local/lib/python3.11/dist-packages (from anyio<5.0,>=3.0->gradio) (1.3.1)\n",
            "Requirement already satisfied: certifi in /usr/local/lib/python3.11/dist-packages (from httpx>=0.24.1->gradio) (2025.4.26)\n",
            "Requirement already satisfied: httpcore==1.* in /usr/local/lib/python3.11/dist-packages (from httpx>=0.24.1->gradio) (1.0.9)\n",
            "Requirement already satisfied: h11>=0.16 in /usr/local/lib/python3.11/dist-packages (from httpcore==1.*->httpx>=0.24.1->gradio) (0.16.0)\n",
            "Requirement already satisfied: filelock in /usr/local/lib/python3.11/dist-packages (from huggingface-hub>=0.28.1->gradio) (3.18.0)\n",
            "Requirement already satisfied: requests in /usr/local/lib/python3.11/dist-packages (from huggingface-hub>=0.28.1->gradio) (2.32.3)\n",
            "Requirement already satisfied: tqdm>=4.42.1 in /usr/local/lib/python3.11/dist-packages (from huggingface-hub>=0.28.1->gradio) (4.67.1)\n",
            "Requirement already satisfied: hf-xet<2.0.0,>=1.1.2 in /usr/local/lib/python3.11/dist-packages (from huggingface-hub>=0.28.1->gradio) (1.1.2)\n",
            "Requirement already satisfied: python-dateutil>=2.8.2 in /usr/local/lib/python3.11/dist-packages (from pandas<3.0,>=1.0->gradio) (2.9.0.post0)\n",
            "Requirement already satisfied: pytz>=2020.1 in /usr/local/lib/python3.11/dist-packages (from pandas<3.0,>=1.0->gradio) (2025.2)\n",
            "Requirement already satisfied: tzdata>=2022.7 in /usr/local/lib/python3.11/dist-packages (from pandas<3.0,>=1.0->gradio) (2025.2)\n",
            "Requirement already satisfied: annotated-types>=0.6.0 in /usr/local/lib/python3.11/dist-packages (from pydantic<2.12,>=2.0->gradio) (0.7.0)\n",
            "Requirement already satisfied: pydantic-core==2.33.2 in /usr/local/lib/python3.11/dist-packages (from pydantic<2.12,>=2.0->gradio) (2.33.2)\n",
            "Requirement already satisfied: typing-inspection>=0.4.0 in /usr/local/lib/python3.11/dist-packages (from pydantic<2.12,>=2.0->gradio) (0.4.1)\n",
            "Requirement already satisfied: click>=8.0.0 in /usr/local/lib/python3.11/dist-packages (from typer<1.0,>=0.12->gradio) (8.2.1)\n",
            "Requirement already satisfied: shellingham>=1.3.0 in /usr/local/lib/python3.11/dist-packages (from typer<1.0,>=0.12->gradio) (1.5.4)\n",
            "Requirement already satisfied: rich>=10.11.0 in /usr/local/lib/python3.11/dist-packages (from typer<1.0,>=0.12->gradio) (13.9.4)\n",
            "Requirement already satisfied: six>=1.5 in /usr/local/lib/python3.11/dist-packages (from python-dateutil>=2.8.2->pandas<3.0,>=1.0->gradio) (1.17.0)\n",
            "Requirement already satisfied: markdown-it-py>=2.2.0 in /usr/local/lib/python3.11/dist-packages (from rich>=10.11.0->typer<1.0,>=0.12->gradio) (3.0.0)\n",
            "Requirement already satisfied: pygments<3.0.0,>=2.13.0 in /usr/local/lib/python3.11/dist-packages (from rich>=10.11.0->typer<1.0,>=0.12->gradio) (2.19.1)\n",
            "Requirement already satisfied: charset-normalizer<4,>=2 in /usr/local/lib/python3.11/dist-packages (from requests->huggingface-hub>=0.28.1->gradio) (3.4.2)\n",
            "Requirement already satisfied: urllib3<3,>=1.21.1 in /usr/local/lib/python3.11/dist-packages (from requests->huggingface-hub>=0.28.1->gradio) (2.4.0)\n",
            "Requirement already satisfied: mdurl~=0.1 in /usr/local/lib/python3.11/dist-packages (from markdown-it-py>=2.2.0->rich>=10.11.0->typer<1.0,>=0.12->gradio) (0.1.2)\n"
          ]
        }
      ]
    },
    {
      "cell_type": "code",
      "source": [
        "import gradio as gr\n",
        "import random"
      ],
      "metadata": {
        "id": "Oz4qDpfTZJ-L"
      },
      "execution_count": 2,
      "outputs": []
    },
    {
      "cell_type": "code",
      "execution_count": 3,
      "metadata": {
        "colab": {
          "base_uri": "https://localhost:8080/",
          "height": 0
        },
        "id": "JpLiiErwRJEC",
        "outputId": "66290bbe-f7a4-4a8f-d730-0bb8d900bb1d"
      },
      "outputs": [
        {
          "output_type": "stream",
          "name": "stdout",
          "text": [
            "Requirement already satisfied: textblob in /usr/local/lib/python3.11/dist-packages (0.19.0)\n",
            "Requirement already satisfied: nltk>=3.9 in /usr/local/lib/python3.11/dist-packages (from textblob) (3.9.1)\n",
            "Requirement already satisfied: click in /usr/local/lib/python3.11/dist-packages (from nltk>=3.9->textblob) (8.2.1)\n",
            "Requirement already satisfied: joblib in /usr/local/lib/python3.11/dist-packages (from nltk>=3.9->textblob) (1.5.1)\n",
            "Requirement already satisfied: regex>=2021.8.3 in /usr/local/lib/python3.11/dist-packages (from nltk>=3.9->textblob) (2024.11.6)\n",
            "Requirement already satisfied: tqdm in /usr/local/lib/python3.11/dist-packages (from nltk>=3.9->textblob) (4.67.1)\n"
          ]
        },
        {
          "output_type": "stream",
          "name": "stderr",
          "text": [
            "[nltk_data] Downloading package punkt to /root/nltk_data...\n",
            "[nltk_data]   Unzipping tokenizers/punkt.zip.\n"
          ]
        },
        {
          "output_type": "execute_result",
          "data": {
            "text/plain": [
              "True"
            ]
          },
          "metadata": {},
          "execution_count": 3
        }
      ],
      "source": [
        "# Install TextBlob for sentiment analysis\n",
        "!pip install textblob\n",
        "# Download necessary corpora\n",
        "import nltk\n",
        "nltk.download('punkt')"
      ]
    },
    {
      "cell_type": "markdown",
      "source": [
        "💡 What The above code does is :\n",
        "\n",
        "Installs TextBlob for sentiment analysis and keyword extraction.\n",
        "\n",
        "Downloads punkt tokenizer (used for breaking sentences into words)."
      ],
      "metadata": {
        "id": "8udOnIzkRtwC"
      }
    },
    {
      "cell_type": "code",
      "source": [
        "intents = {\n",
        "    \"greeting\": [\n",
        "        \"Hey there! 😊\",\n",
        "        \"Hi! How can I help you today?\",\n",
        "        \"Hello! I'm all ears 👂\"\n",
        "    ],\n",
        "    \"sad\": [\n",
        "        \"I'm sorry you're feeling that way 💔\",\n",
        "        \"It's okay to feel down. You matter 🫂\",\n",
        "        \"Even the sky has cloudy days 🌧️\"\n",
        "    ],\n",
        "    \"happy\": [\n",
        "        \"That’s amazing! Keep glowing 🌟\",\n",
        "        \"Your happiness is contagious 😄\",\n",
        "        \"You're on fire 🔥 in the best way!\"\n",
        "    ],\n",
        "    \"stressed\": [\n",
        "        \"Take a deep breath. You’ve got this 🌬️\",\n",
        "        \"Don't forget to rest — you're human 💆‍♀️\",\n",
        "        \"It’s okay to pause. You’re doing great 🫶\"\n",
        "    ],\n",
        "    \"anxious\": [\n",
        "        \"Anxiety can feel heavy, but I’m right here 🧸\",\n",
        "        \"One step at a time. You’re stronger than you think 💪\",\n",
        "        \"Take 3 deep breaths. Inhale... exhale... again 🫁\"\n",
        "    ],\n",
        "    \"embarrassed\": [\n",
        "        \"It’s okay to feel awkward 😅 We all do!\",\n",
        "        \"You’re only human — and humans are cute 💗\",\n",
        "        \"Next time, you'll rock it. Promise 🤞\"\n",
        "    ],\n",
        "    \"proud\": [\n",
        "        \"Yesss! Go you! 🎉 That’s an awesome win\",\n",
        "        \"You worked hard and it paid off 💪👏\",\n",
        "        \"You deserve all the credit 🏆 Keep slaying!\"\n",
        "    ],\n",
        "    \"thanks\": [\n",
        "        \"You’re welcome! Anytime 💖\",\n",
        "        \"Always here for you 🤗\",\n",
        "        \"Glad I could help 🫡\"\n",
        "    ],\n",
        "    \"neutral\": [\n",
        "        \"Hmm okay... wanna share more?\",\n",
        "        \"Got anything else on your mind?\",\n",
        "        \"I’m listening... 💬\"\n",
        "    ]\n",
        "}"
      ],
      "metadata": {
        "id": "aFT_nv_3R1dD"
      },
      "execution_count": 4,
      "outputs": []
    },
    {
      "cell_type": "markdown",
      "source": [
        "☝🏻️ What We Just Did:\n",
        "\n",
        "🧠 Detected polarity of your sentence (positive/negative/neutral)\n",
        "\n",
        "🎯 Chose a random reply from our pre-written moods"
      ],
      "metadata": {
        "id": "Dek3lHfXSTcB"
      }
    },
    {
      "cell_type": "code",
      "source": [
        "def match_intent(text):\n",
        "    text = text.lower()\n",
        "    if any(word in text for word in [\"hello\", \"hi\", \"hey\"]):\n",
        "        return \"greeting\"\n",
        "    elif any(word in text for word in [\"sad\", \"cry\", \"alone\", \"broken\", \"miss\"]):\n",
        "        return \"sad\"\n",
        "    elif any(word in text for word in [\"happy\", \"excited\", \"yay\", \"joy\", \"glad\"]):\n",
        "        return \"happy\"\n",
        "    elif any(word in text for word in [\"stress\", \"tired\", \"anxious\", \"pressure\", \"overwhelmed\"]):\n",
        "        return \"stressed\"\n",
        "    elif any(word in text for word in [\"nervous\", \"worried\", \"panic\", \"fear\"]):\n",
        "        return \"anxious\"\n",
        "    elif any(word in text for word in [\"embarrassed\", \"awkward\", \"blush\", \"shy\"]):\n",
        "        return \"embarrassed\"\n",
        "    elif any(word in text for word in [\"proud\", \"achievement\", \"success\", \"accomplished\"]):\n",
        "        return \"proud\"\n",
        "    elif any(word in text for word in [\"thank\", \"thanks\", \"grateful\"]):\n",
        "        return \"thanks\"\n",
        "    else:\n",
        "        return \"neutral\""
      ],
      "metadata": {
        "id": "fmLJkB2VVT76"
      },
      "execution_count": 5,
      "outputs": []
    },
    {
      "cell_type": "code",
      "source": [
        "conversation_memory = []  # to track previous moods"
      ],
      "metadata": {
        "id": "6YqR9gU4WAJG"
      },
      "execution_count": 6,
      "outputs": []
    },
    {
      "cell_type": "code",
      "source": [
        "def chatbot_reply(user_input):\n",
        "    intent = match_intent(user_input)\n",
        "    conversation_memory.append(intent)\n",
        "\n",
        "    # Mood pattern check\n",
        "    if len(conversation_memory) >= 3:\n",
        "        last_3 = conversation_memory[-3:]\n",
        "        if all(m in [\"sad\", \"stressed\", \"anxious\"] for m in last_3):\n",
        "            return \"You've been feeling a bit low lately 😟. Want to talk to a friend or take a small break?\"\n",
        "\n",
        "    # Follow-up questions\n",
        "    follow_ups = {\n",
        "        \"sad\": \"Do you want to share what made you feel this way?\",\n",
        "        \"stressed\": \"Would it help if you wrote down what’s stressing you out?\",\n",
        "        \"happy\": \"Wanna tell me what made your day awesome?\",\n",
        "        \"proud\": \"What achievement are you most proud of today?\",\n",
        "        \"anxious\": \"What’s causing the anxiety? I’m listening 🧸\"\n",
        "    }\n",
        "\n",
        "    # Combine response + follow-up\n",
        "    if intent in intents:\n",
        "        base_response = random.choice(intents[intent])\n",
        "        return f\"{base_response}\\n{follow_ups.get(intent, '')}\".strip()\n",
        "    else:\n",
        "        return random.choice(intents[\"neutral\"])"
      ],
      "metadata": {
        "id": "jTT7kzSASZhf"
      },
      "execution_count": 7,
      "outputs": []
    },
    {
      "cell_type": "code",
      "source": [
        "# Gradio Interface\n",
        "chat_ui = gr.Interface(fn=chatbot_reply,\n",
        "                       inputs=gr.Textbox(placeholder=\"Tell me how you're feeling...\"),\n",
        "                       outputs=\"text\",\n",
        "                       title=\"MoodMate 🧠💬\",\n",
        "                       description=\"An empathetic chatbot that listens to your moods!\")\n",
        "\n",
        "chat_ui.launch()"
      ],
      "metadata": {
        "colab": {
          "base_uri": "https://localhost:8080/",
          "height": 650
        },
        "id": "Zj7gYXs7YPAi",
        "outputId": "5be3f0de-f5d9-4f4e-e675-b802d21affd2"
      },
      "execution_count": 8,
      "outputs": [
        {
          "output_type": "stream",
          "name": "stdout",
          "text": [
            "It looks like you are running Gradio on a hosted a Jupyter notebook. For the Gradio app to work, sharing must be enabled. Automatically setting `share=True` (you can turn this off by setting `share=False` in `launch()` explicitly).\n",
            "\n",
            "Colab notebook detected. To show errors in colab notebook, set debug=True in launch()\n",
            "* Running on public URL: https://85e43625a93ad9b012.gradio.live\n",
            "\n",
            "This share link expires in 1 week. For free permanent hosting and GPU upgrades, run `gradio deploy` from the terminal in the working directory to deploy to Hugging Face Spaces (https://huggingface.co/spaces)\n"
          ]
        },
        {
          "output_type": "display_data",
          "data": {
            "text/plain": [
              "<IPython.core.display.HTML object>"
            ],
            "text/html": [
              "<div><iframe src=\"https://85e43625a93ad9b012.gradio.live\" width=\"100%\" height=\"500\" allow=\"autoplay; camera; microphone; clipboard-read; clipboard-write;\" frameborder=\"0\" allowfullscreen></iframe></div>"
            ]
          },
          "metadata": {}
        },
        {
          "output_type": "execute_result",
          "data": {
            "text/plain": []
          },
          "metadata": {},
          "execution_count": 8
        }
      ]
    }
  ]
}